{
 "cells": [
  {
   "cell_type": "code",
   "execution_count": 1,
   "id": "f81517f0",
   "metadata": {},
   "outputs": [],
   "source": [
    "import pandas as pd\n",
    "\n",
    "def apply_helper(T):\n",
    "    \n",
    "    maxTimeGap = 0\n",
    "    if len(T) != 1:\n",
    "        maxTimeGap = T.TimeStamp.diff().max()\n",
    "    \n",
    "    totalVolume = T.Quantity.sum()\n",
    "    \n",
    "    weightedAvgPrice = (T.Quantity * T.Price).sum()/totalVolume\n",
    "    \n",
    "    maxPrice = T.Price.max()\n",
    "    \n",
    "    return pd.Series({\"Maximum Time Gap\":maxTimeGap, \n",
    "                      \"Total Volume Traded\":totalVolume, \n",
    "                      \"Weighted Avg Price\":weightedAvgPrice, \n",
    "                      \"Max Price\":maxPrice})\n",
    "\n",
    "df = pd.read_csv(\"input.csv\", index_col=0, header=None).reset_index()\n",
    "df.columns = [\"TimeStamp\", \"Symbol\", \"Quantity\", \"Price\"]\n",
    "res = df.groupby(\"Symbol\").apply(apply_helper)\n",
    "res.to_csv(\"output.csv\", header=None, index=None)"
   ]
  }
 ],
 "metadata": {
  "kernelspec": {
   "display_name": "Python 3 (ipykernel)",
   "language": "python",
   "name": "python3"
  },
  "language_info": {
   "codemirror_mode": {
    "name": "ipython",
    "version": 3
   },
   "file_extension": ".py",
   "mimetype": "text/x-python",
   "name": "python",
   "nbconvert_exporter": "python",
   "pygments_lexer": "ipython3",
   "version": "3.9.7"
  }
 },
 "nbformat": 4,
 "nbformat_minor": 5
}
